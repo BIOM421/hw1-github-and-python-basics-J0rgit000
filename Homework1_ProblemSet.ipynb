{
  "cells": [
    {
      "cell_type": "markdown",
      "id": "bbe3f931-7cb6-4d10-9e0b-0228c145a880",
      "metadata": {
        "id": "bbe3f931-7cb6-4d10-9e0b-0228c145a880"
      },
      "source": [
        "# Notebook for Homework 1"
      ]
    },
    {
      "cell_type": "code",
      "execution_count": 33,
      "id": "68311919-5c07-4475-a3d3-ba70c850e06e",
      "metadata": {
        "tags": [],
        "id": "68311919-5c07-4475-a3d3-ba70c850e06e"
      },
      "outputs": [],
      "source": [
        "# Preliminary Codes -- DO NOT CHANGE ANYTHING IN THIS SECTION\n",
        "import random, pickle\n",
        "import numpy as np\n",
        "xData = [100*random.random() for i in range(20)]\n",
        "number = 5+random.randint(8,20)\n",
        "fruit = 'apples'\n",
        "day = 'Saturday'\n",
        "string_4 = 'An alacritous abalone accelerates along an alarming aquatic ascent.'\n",
        "string_5 = 'A                       large space was here.'\n",
        "string_6 = 'ATCGTGCATGCTGAGTGGCGAGCGGCGGCCGTACGCTGTTACTTAAAACGTAGCTGTAAAAAAC\\\n",
        "            GCTGCTGATGCTGTGCATGTGACTAGCTGCATGTGTGACTGACTGCTGACGTACTGTACGTACG\\\n",
        "            ATGGTTCGTGCGATGCGCTTGACGTGTCGTAGTGCATGCTGCTAGCTGATCGATGTGTCGAGTC'\n",
        "nDigits = 6\n",
        "nPower = 3\n",
        "List10 = ['apples','bananas','pears','pears','blueberries','apples','strawberries']\n",
        "Student_IDs = [1,2,3,4,5]\n",
        "Student_names = ['Jim','John','Jenna','Jamal','Jaden']\n",
        "List12 = [1,2,3,4,5,6,7,8]\n",
        "\n",
        "q1 = 'xxx'\n",
        "q2 = 'XXX'\n",
        "q3 = 'XXX'\n",
        "q4 = 123\n",
        "q5 = 'XXX'\n",
        "q6 = 123\n",
        "q7 = 'XXX'\n",
        "q8 = 1.23\n",
        "q8 = 'xxx'\n",
        "q9 = 'xxx'\n",
        "q10 = List10\n",
        "q11 = 'xxx'\n",
        "q12 = [1,2,3,4,5,6,7,8]\n",
        "\n",
        "fnDat = 'Hwk1Data.pkl'\n",
        "dataDict = {'xData':xData,'number':number,'fruit':fruit,'day':day,'string_4':string_4,\n",
        "    'string_5':string_5,'string_6':string_6,'nDigits':nDigits,'nPower':nPower,\n",
        "    'Student_IDs':Student_IDs,'Student_names':Student_names,'List10':List10,'List12':List12}\n",
        "with open(fnDat, 'wb') as file:\n",
        "    pickle.dump(dataDict, file)\n",
        "\n",
        "def saveResults():\n",
        "    fn = 'Hwk1Answers.pkl'\n",
        "    answerDict = {'q1':q1,'q2':q2,'q3':q3,'q4':q4,'q5':q5,'q6':q6,'q7':q7,'q8':q8,\n",
        "                 'q9':q9,'q10':q10,'q11':q11,'q12':q12}\n",
        "    with open(fn, 'wb') as file:\n",
        "        pickle.dump(answerDict, file)\n",
        "\n",
        "    #Read and print\n",
        "    with open(fn, 'rb') as file:\n",
        "        loaded_dict = pickle.load(file)\n",
        "\n",
        "    print(\"Your answers so far are:\")\n",
        "    print(loaded_dict)"
      ]
    },
    {
      "cell_type": "markdown",
      "id": "ed37dd2e-0076-4b05-b594-4e28cda958bc",
      "metadata": {
        "id": "ed37dd2e-0076-4b05-b594-4e28cda958bc"
      },
      "source": [
        "## Problem Set 1 - Basic Arithmetic and String Manipulation"
      ]
    },
    {
      "cell_type": "code",
      "execution_count": 34,
      "id": "eb36cae3-6344-428b-9d97-ebe35b743109",
      "metadata": {
        "tags": [],
        "id": "eb36cae3-6344-428b-9d97-ebe35b743109",
        "outputId": "435c04d4-2e9c-40b6-d7d3-fd07218175f7",
        "colab": {
          "base_uri": "https://localhost:8080/"
        }
      },
      "outputs": [
        {
          "output_type": "stream",
          "name": "stdout",
          "text": [
            "Your answers so far are:\n",
            "{'q1': 'Hello my name is Jorge', 'q2': 'XXX', 'q3': 'XXX', 'q4': 123, 'q5': 'XXX', 'q6': 123, 'q7': 'XXX', 'q8': 'xxx', 'q9': 'xxx', 'q10': ['apples', 'bananas', 'pears', 'pears', 'blueberries', 'apples', 'strawberries'], 'q11': 'xxx', 'q12': [1, 2, 3, 4, 5, 6, 7, 8]}\n"
          ]
        }
      ],
      "source": [
        "# Q1 - Concatenate the following strings with a space inbetween them (do not change the name).\n",
        "string_1 = 'Hello my name is'\n",
        "name = 'Jorge'\n",
        "q1  = string_1+' '+name\n",
        "\n",
        "saveResults()"
      ]
    },
    {
      "cell_type": "code",
      "execution_count": 35,
      "id": "8f5fa2d5-598a-4244-a9ef-b0444bc67dc8",
      "metadata": {
        "id": "8f5fa2d5-598a-4244-a9ef-b0444bc67dc8",
        "outputId": "1fb3b137-25f3-488f-9b2e-f0c2b083ba2b",
        "colab": {
          "base_uri": "https://localhost:8080/"
        }
      },
      "outputs": [
        {
          "output_type": "stream",
          "name": "stdout",
          "text": [
            "Your answers so far are:\n",
            "{'q1': 'Hello my name is Jorge', 'q2': 'I WOULD LIKE TO BE UPPERCASE', 'q3': 'XXX', 'q4': 123, 'q5': 'XXX', 'q6': 123, 'q7': 'XXX', 'q8': 'xxx', 'q9': 'xxx', 'q10': ['apples', 'bananas', 'pears', 'pears', 'blueberries', 'apples', 'strawberries'], 'q11': 'xxx', 'q12': [1, 2, 3, 4, 5, 6, 7, 8]}\n"
          ]
        }
      ],
      "source": [
        "# Q2 = Convert the following string to uppercase\n",
        "string_2 = 'i would like to be uppercase'\n",
        "q2 = str.upper(string_2)\n",
        "\n",
        "saveResults()"
      ]
    },
    {
      "cell_type": "code",
      "execution_count": 36,
      "id": "d2f6938c-1036-4622-94c4-d03ed23ae5dd",
      "metadata": {
        "tags": [],
        "id": "d2f6938c-1036-4622-94c4-d03ed23ae5dd",
        "outputId": "94a66237-af9c-4ac1-bf04-4f1b4e7e9c0c",
        "colab": {
          "base_uri": "https://localhost:8080/"
        }
      },
      "outputs": [
        {
          "output_type": "stream",
          "name": "stdout",
          "text": [
            "21\n",
            "apples\n",
            "Saturday\n",
            "Your answers so far are:\n",
            "{'q1': 'Hello my name is Jorge', 'q2': 'I WOULD LIKE TO BE UPPERCASE', 'q3': 'I bought 21 apples on Saturday', 'q4': 123, 'q5': 'XXX', 'q6': 123, 'q7': 'XXX', 'q8': 'xxx', 'q9': 'xxx', 'q10': ['apples', 'bananas', 'pears', 'pears', 'blueberries', 'apples', 'strawberries'], 'q11': 'xxx', 'q12': [1, 2, 3, 4, 5, 6, 7, 8]}\n"
          ]
        }
      ],
      "source": [
        "# Q3 - use string formatting to construct the following string:\n",
        "#. \"I bought [number] [fruit] on [day].\" where:\n",
        "#     [number] is replaced with the number value of the variable \"number\",\n",
        "#     [fruit] is replaced with the string value of the variable \"fruit\",\n",
        "#     [day] is replaced with the string value of the variable \"day\",\n",
        "print(number)\n",
        "print(fruit)\n",
        "print(day)\n",
        "q3 = \"I bought \"+str(number)+\" \"+str(fruit)+\" on \"+str(day)\n",
        "\n",
        "saveResults()"
      ]
    },
    {
      "cell_type": "code",
      "execution_count": 37,
      "id": "adc7baac-3d62-400e-8e5b-a66eb12e117e",
      "metadata": {
        "tags": [],
        "id": "adc7baac-3d62-400e-8e5b-a66eb12e117e",
        "outputId": "663ad195-0119-40d3-ec3b-ba07139106ac",
        "colab": {
          "base_uri": "https://localhost:8080/"
        }
      },
      "outputs": [
        {
          "output_type": "stream",
          "name": "stdout",
          "text": [
            "An alacritous abalone accelerates along an alarming aquatic ascent.\n",
            "Your answers so far are:\n",
            "{'q1': 'Hello my name is Jorge', 'q2': 'I WOULD LIKE TO BE UPPERCASE', 'q3': 'I bought 21 apples on Saturday', 'q4': 13, 'q5': 'XXX', 'q6': 123, 'q7': 'XXX', 'q8': 'xxx', 'q9': 'xxx', 'q10': ['apples', 'bananas', 'pears', 'pears', 'blueberries', 'apples', 'strawberries'], 'q11': 'xxx', 'q12': [1, 2, 3, 4, 5, 6, 7, 8]}\n"
          ]
        }
      ],
      "source": [
        "# Q4 - count the number of a's in the string \"string_4\"\n",
        "print(string_4)\n",
        "q4 = str.count(string_4,'a')\n",
        "\n",
        "saveResults()"
      ]
    },
    {
      "cell_type": "code",
      "execution_count": 38,
      "id": "87dfc22b-0d94-4cc6-ab7c-cd484c67c919",
      "metadata": {
        "tags": [],
        "id": "87dfc22b-0d94-4cc6-ab7c-cd484c67c919",
        "outputId": "0b84b45d-2e0c-4222-9874-8b21a7fab8fd",
        "colab": {
          "base_uri": "https://localhost:8080/"
        }
      },
      "outputs": [
        {
          "output_type": "stream",
          "name": "stdout",
          "text": [
            "A                       large space was here.\n",
            "Your answers so far are:\n",
            "{'q1': 'Hello my name is Jorge', 'q2': 'I WOULD LIKE TO BE UPPERCASE', 'q3': 'I bought 21 apples on Saturday', 'q4': 13, 'q5': 'Alargespacewashere.', 'q6': 123, 'q7': 'XXX', 'q8': 'xxx', 'q9': 'xxx', 'q10': ['apples', 'bananas', 'pears', 'pears', 'blueberries', 'apples', 'strawberries'], 'q11': 'xxx', 'q12': [1, 2, 3, 4, 5, 6, 7, 8]}\n"
          ]
        }
      ],
      "source": [
        "# Q5 - Strip \"string_5\" to remove all spaces and return the result as 'q5'\n",
        "print(string_5)\n",
        "q5 = str.replace(string_5,\" \",\"\")\n",
        "\n",
        "saveResults()"
      ]
    },
    {
      "cell_type": "code",
      "execution_count": 39,
      "id": "57fe3ee3-f84f-4839-bed2-5ca82691a87c",
      "metadata": {
        "tags": [],
        "id": "57fe3ee3-f84f-4839-bed2-5ca82691a87c",
        "outputId": "aec1e639-b185-4d05-9e33-d2b36ff340de",
        "colab": {
          "base_uri": "https://localhost:8080/"
        }
      },
      "outputs": [
        {
          "output_type": "stream",
          "name": "stdout",
          "text": [
            "Your answers so far are:\n",
            "{'q1': 'Hello my name is Jorge', 'q2': 'I WOULD LIKE TO BE UPPERCASE', 'q3': 'I bought 21 apples on Saturday', 'q4': 13, 'q5': 'Alargespacewashere.', 'q6': 216, 'q7': 'XXX', 'q8': 'xxx', 'q9': 'xxx', 'q10': ['apples', 'bananas', 'pears', 'pears', 'blueberries', 'apples', 'strawberries'], 'q11': 'xxx', 'q12': [1, 2, 3, 4, 5, 6, 7, 8]}\n"
          ]
        }
      ],
      "source": [
        "# Q6 - How long is the string \"string_6\"?\n",
        "q6 = len(string_6)\n",
        "\n",
        "saveResults()"
      ]
    },
    {
      "cell_type": "code",
      "execution_count": 40,
      "id": "5df84638-359e-4ce2-8e90-925c40614253",
      "metadata": {
        "tags": [],
        "id": "5df84638-359e-4ce2-8e90-925c40614253",
        "outputId": "f47273a5-4ab6-489e-e805-1efb8b6e911a",
        "colab": {
          "base_uri": "https://localhost:8080/"
        }
      },
      "outputs": [
        {
          "output_type": "stream",
          "name": "stdout",
          "text": [
            "3.141592653589793\n",
            "6\n",
            "3\n",
            "Your answers so far are:\n",
            "{'q1': 'Hello my name is Jorge', 'q2': 'I WOULD LIKE TO BE UPPERCASE', 'q3': 'I bought 21 apples on Saturday', 'q4': 13, 'q5': 'Alargespacewashere.', 'q6': 216, 'q7': '3.101e+01', 'q8': 'xxx', 'q9': 'xxx', 'q10': ['apples', 'bananas', 'pears', 'pears', 'blueberries', 'apples', 'strawberries'], 'q11': 'xxx', 'q12': [1, 2, 3, 4, 5, 6, 7, 8]}\n"
          ]
        }
      ],
      "source": [
        "# Q7 - Write a STRING that contains the value of pi^[nPower].\n",
        "# Use exponent form to the 3rd decimal point (e.g., 2.500e+00).\n",
        "pi = np.pi\n",
        "print(pi)\n",
        "print(nDigits)\n",
        "print(nPower)\n",
        "q7 = str('{:.3e}'.format(pow(pi,nPower)))\n",
        "\n",
        "saveResults()"
      ]
    },
    {
      "cell_type": "markdown",
      "id": "d6565fd5-b535-4571-84e9-2ea7a0c0c6ed",
      "metadata": {
        "tags": [],
        "id": "d6565fd5-b535-4571-84e9-2ea7a0c0c6ed"
      },
      "source": [
        "## Problem Set 2 - Iterables, Slicing, and Sets"
      ]
    },
    {
      "cell_type": "code",
      "execution_count": 41,
      "id": "478785c4-c27a-4e62-ab36-8695589b3291",
      "metadata": {
        "tags": [],
        "id": "478785c4-c27a-4e62-ab36-8695589b3291",
        "outputId": "a6bdc4c6-40fd-43e5-a3bf-0a5401335e61",
        "colab": {
          "base_uri": "https://localhost:8080/"
        }
      },
      "outputs": [
        {
          "output_type": "stream",
          "name": "stdout",
          "text": [
            "[3.327583901571163, 88.43716481602767, 76.41631720839843, 92.83009872749555, 92.60791650281601, 31.017376809990594, 88.13560773235724, 36.56788989971682, 11.69670944764606, 52.51762605462362, 78.7814886473075, 51.31034300482613, 74.58282651438563, 29.698394126657913, 84.3057063554191, 80.42007813851374, 13.284010878884157, 3.4425858995145497, 74.48365119671611, 21.08777435622593]\n",
            "Your answers so far are:\n",
            "{'q1': 'Hello my name is Jorge', 'q2': 'I WOULD LIKE TO BE UPPERCASE', 'q3': 'I bought 21 apples on Saturday', 'q4': 13, 'q5': 'Alargespacewashere.', 'q6': 216, 'q7': '3.101e+01', 'q8': 54.24755751095471, 'q9': 'xxx', 'q10': ['apples', 'bananas', 'pears', 'pears', 'blueberries', 'apples', 'strawberries'], 'q11': 'xxx', 'q12': [1, 2, 3, 4, 5, 6, 7, 8]}\n"
          ]
        }
      ],
      "source": [
        "# Q8 - Consider the numbers in the list \"xData\", and compute their average.\n",
        "print(xData)\n",
        "q8 = np.mean(xData)  # Change this to produce the average of the numbers in 'xData'\n",
        "\n",
        "saveResults()"
      ]
    },
    {
      "cell_type": "code",
      "execution_count": 42,
      "id": "52ccb85f-cbc6-46ab-ae0c-657d92d17cc1",
      "metadata": {
        "tags": [],
        "id": "52ccb85f-cbc6-46ab-ae0c-657d92d17cc1",
        "outputId": "8996c6ee-504d-4d89-a594-449053a60384",
        "colab": {
          "base_uri": "https://localhost:8080/"
        }
      },
      "outputs": [
        {
          "output_type": "stream",
          "name": "stdout",
          "text": [
            "[3.327583901571163, 88.43716481602767, 76.41631720839843, 92.83009872749555, 92.60791650281601, 31.017376809990594, 88.13560773235724, 36.56788989971682, 11.69670944764606, 52.51762605462362, 78.7814886473075, 51.31034300482613, 74.58282651438563, 29.698394126657913, 84.3057063554191, 80.42007813851374, 13.284010878884157, 3.4425858995145497, 74.48365119671611, 21.08777435622593]\n",
            "Your answers so far are:\n",
            "{'q1': 'Hello my name is Jorge', 'q2': 'I WOULD LIKE TO BE UPPERCASE', 'q3': 'I bought 21 apples on Saturday', 'q4': 13, 'q5': 'Alargespacewashere.', 'q6': 216, 'q7': '3.101e+01', 'q8': 54.24755751095471, 'q9': 21.08777435622593, 'q10': ['apples', 'bananas', 'pears', 'pears', 'blueberries', 'apples', 'strawberries'], 'q11': 'xxx', 'q12': [1, 2, 3, 4, 5, 6, 7, 8]}\n"
          ]
        }
      ],
      "source": [
        "# Q9 - What's the last entry in the list \"xData\".  Get this by slicing the list.\n",
        "print(xData)\n",
        "q9 = xData[-1]\n",
        "\n",
        "saveResults()"
      ]
    },
    {
      "cell_type": "code",
      "execution_count": 43,
      "id": "1bac04df-6fb1-4ee9-ac15-9a21d5dbf087",
      "metadata": {
        "id": "1bac04df-6fb1-4ee9-ac15-9a21d5dbf087",
        "outputId": "f07b9bdc-fa3d-4615-f273-ed84e67c7944",
        "colab": {
          "base_uri": "https://localhost:8080/"
        }
      },
      "outputs": [
        {
          "output_type": "stream",
          "name": "stdout",
          "text": [
            "['apples', 'bananas', 'pears', 'pears', 'blueberries', 'apples', 'strawberries']\n",
            "Your answers so far are:\n",
            "{'q1': 'Hello my name is Jorge', 'q2': 'I WOULD LIKE TO BE UPPERCASE', 'q3': 'I bought 21 apples on Saturday', 'q4': 13, 'q5': 'Alargespacewashere.', 'q6': 216, 'q7': '3.101e+01', 'q8': 54.24755751095471, 'q9': 21.08777435622593, 'q10': ['apples', 'bananas', 'blueberries', 'pears', 'strawberries'], 'q11': 'xxx', 'q12': [1, 2, 3, 4, 5, 6, 7, 8]}\n"
          ]
        }
      ],
      "source": [
        "# Q10 - Convert between lists and sets to remove duplicate entries from the list \"List10\"\n",
        "print(List10)\n",
        "q10 = list(np.unique(List10))\n",
        "\n",
        "saveResults()"
      ]
    },
    {
      "cell_type": "code",
      "execution_count": 44,
      "id": "84efaca0-7f30-4a5f-b973-054970681a64",
      "metadata": {
        "id": "84efaca0-7f30-4a5f-b973-054970681a64",
        "outputId": "eeabdb9a-11ab-4460-a06d-4f4602b09e2a",
        "colab": {
          "base_uri": "https://localhost:8080/"
        }
      },
      "outputs": [
        {
          "output_type": "stream",
          "name": "stdout",
          "text": [
            "[1, 2, 3, 4, 5]\n",
            "['Jim', 'John', 'Jenna', 'Jamal', 'Jaden']\n",
            "Your answers so far are:\n",
            "{'q1': 'Hello my name is Jorge', 'q2': 'I WOULD LIKE TO BE UPPERCASE', 'q3': 'I bought 21 apples on Saturday', 'q4': 13, 'q5': 'Alargespacewashere.', 'q6': 216, 'q7': '3.101e+01', 'q8': 54.24755751095471, 'q9': 21.08777435622593, 'q10': ['apples', 'bananas', 'blueberries', 'pears', 'strawberries'], 'q11': {1: 'Jim', 2: 'John', 3: 'Jenna', 4: 'Jamal', 5: 'Jaden'}, 'q12': [1, 2, 3, 4, 5, 6, 7, 8]}\n"
          ]
        }
      ],
      "source": [
        "# Q11 - Combine the lists 'Student_IDs' and 'Student_names' into a dictionary keyed by the IDs.\n",
        "# i.e. Create a dictionary with pairs of { ID : student name }\n",
        "print(Student_IDs)\n",
        "print(Student_names)\n",
        "q11 = dict(zip(Student_IDs,Student_names))\n",
        "\n",
        "saveResults()"
      ]
    },
    {
      "cell_type": "code",
      "execution_count": 45,
      "id": "13f4c066-44df-4b82-a78d-4dd2ff590f03",
      "metadata": {
        "tags": [],
        "id": "13f4c066-44df-4b82-a78d-4dd2ff590f03",
        "outputId": "9fb27cf9-ba40-4ceb-8497-e8ebee545e00",
        "colab": {
          "base_uri": "https://localhost:8080/"
        }
      },
      "outputs": [
        {
          "output_type": "stream",
          "name": "stdout",
          "text": [
            "[1, 2, 3, 4, 5, 6, 7, 8]\n",
            "Your answers so far are:\n",
            "{'q1': 'Hello my name is Jorge', 'q2': 'I WOULD LIKE TO BE UPPERCASE', 'q3': 'I bought 21 apples on Saturday', 'q4': 13, 'q5': 'Alargespacewashere.', 'q6': 216, 'q7': '3.101e+01', 'q8': 54.24755751095471, 'q9': 21.08777435622593, 'q10': ['apples', 'bananas', 'blueberries', 'pears', 'strawberries'], 'q11': {1: 'Jim', 2: 'John', 3: 'Jenna', 4: 'Jamal', 5: 'Jaden'}, 'q12': [1, 2, 3, 4, 5, 6, 7, 8]}\n"
          ]
        }
      ],
      "source": [
        "# Q12 - Slice to get every other entry in the list 'List12'\n",
        "print(List12)\n",
        "q12 = List12[0:len(List12):1]\n",
        "\n",
        "saveResults()"
      ]
    }
  ],
  "metadata": {
    "kernelspec": {
      "display_name": "Python 3",
      "language": "python",
      "name": "python3"
    },
    "language_info": {
      "codemirror_mode": {
        "name": "ipython",
        "version": 3
      },
      "file_extension": ".py",
      "mimetype": "text/x-python",
      "name": "python",
      "nbconvert_exporter": "python",
      "pygments_lexer": "ipython3",
      "version": "3.11.5"
    },
    "colab": {
      "provenance": []
    }
  },
  "nbformat": 4,
  "nbformat_minor": 5
}